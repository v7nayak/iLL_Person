{
  "nbformat": 4,
  "nbformat_minor": 0,
  "metadata": {
    "colab": {
      "provenance": []
    },
    "kernelspec": {
      "name": "python3",
      "display_name": "Python 3"
    },
    "language_info": {
      "name": "python"
    }
  },
  "cells": [
    {
      "cell_type": "markdown",
      "source": [
        "Importing Libraries"
      ],
      "metadata": {
        "id": "jCF0fLieI-Bu"
      }
    },
    {
      "cell_type": "code",
      "execution_count": 28,
      "metadata": {
        "id": "uw0XQ0vGBaQO"
      },
      "outputs": [],
      "source": [
        "import numpy as np\n",
        "import pandas as pd\n",
        "import matplotlib.pyplot as plt\n",
        "import sklearn"
      ]
    },
    {
      "cell_type": "code",
      "source": [
        "import tensorflow as tf\n",
        "import keras"
      ],
      "metadata": {
        "id": "Rq-ywpNADGCZ"
      },
      "execution_count": 29,
      "outputs": []
    },
    {
      "cell_type": "code",
      "source": [
        "from tensorflow.keras.losses import BinaryCrossentropy\n",
        "from tensorflow.keras.models import Sequential, load_model\n",
        "from tensorflow.keras.optimizers import Adam\n",
        "from tensorflow.keras.activations import relu, sigmoid\n",
        "from keras.initializers import he_normal"
      ],
      "metadata": {
        "id": "JwUMJ2TaDJTJ"
      },
      "execution_count": 30,
      "outputs": []
    },
    {
      "cell_type": "markdown",
      "source": [
        "Data pre-processing"
      ],
      "metadata": {
        "id": "YJ_upTz5JCtB"
      }
    },
    {
      "cell_type": "code",
      "source": [
        "data = pd.read_csv('toy_dataset.csv')"
      ],
      "metadata": {
        "id": "PyGq0UwrBqKq"
      },
      "execution_count": 31,
      "outputs": []
    },
    {
      "cell_type": "code",
      "source": [
        "data.head()"
      ],
      "metadata": {
        "colab": {
          "base_uri": "https://localhost:8080/",
          "height": 206
        },
        "id": "pt70vLLdCRnI",
        "outputId": "6383a1fe-cb16-4118-8926-52bf3c2a8840"
      },
      "execution_count": 32,
      "outputs": [
        {
          "output_type": "execute_result",
          "data": {
            "text/plain": [
              "   Number    City Gender  Age   Income Illness\n",
              "0       1  Dallas   Male   41  40367.0      No\n",
              "1       2  Dallas   Male   54  45084.0      No\n",
              "2       3  Dallas   Male   42  52483.0      No\n",
              "3       4  Dallas   Male   40  40941.0      No\n",
              "4       5  Dallas   Male   46  50289.0      No"
            ],
            "text/html": [
              "\n",
              "  <div id=\"df-7d0e4ead-d986-4ca2-b5b1-b58ed0294e3e\" class=\"colab-df-container\">\n",
              "    <div>\n",
              "<style scoped>\n",
              "    .dataframe tbody tr th:only-of-type {\n",
              "        vertical-align: middle;\n",
              "    }\n",
              "\n",
              "    .dataframe tbody tr th {\n",
              "        vertical-align: top;\n",
              "    }\n",
              "\n",
              "    .dataframe thead th {\n",
              "        text-align: right;\n",
              "    }\n",
              "</style>\n",
              "<table border=\"1\" class=\"dataframe\">\n",
              "  <thead>\n",
              "    <tr style=\"text-align: right;\">\n",
              "      <th></th>\n",
              "      <th>Number</th>\n",
              "      <th>City</th>\n",
              "      <th>Gender</th>\n",
              "      <th>Age</th>\n",
              "      <th>Income</th>\n",
              "      <th>Illness</th>\n",
              "    </tr>\n",
              "  </thead>\n",
              "  <tbody>\n",
              "    <tr>\n",
              "      <th>0</th>\n",
              "      <td>1</td>\n",
              "      <td>Dallas</td>\n",
              "      <td>Male</td>\n",
              "      <td>41</td>\n",
              "      <td>40367.0</td>\n",
              "      <td>No</td>\n",
              "    </tr>\n",
              "    <tr>\n",
              "      <th>1</th>\n",
              "      <td>2</td>\n",
              "      <td>Dallas</td>\n",
              "      <td>Male</td>\n",
              "      <td>54</td>\n",
              "      <td>45084.0</td>\n",
              "      <td>No</td>\n",
              "    </tr>\n",
              "    <tr>\n",
              "      <th>2</th>\n",
              "      <td>3</td>\n",
              "      <td>Dallas</td>\n",
              "      <td>Male</td>\n",
              "      <td>42</td>\n",
              "      <td>52483.0</td>\n",
              "      <td>No</td>\n",
              "    </tr>\n",
              "    <tr>\n",
              "      <th>3</th>\n",
              "      <td>4</td>\n",
              "      <td>Dallas</td>\n",
              "      <td>Male</td>\n",
              "      <td>40</td>\n",
              "      <td>40941.0</td>\n",
              "      <td>No</td>\n",
              "    </tr>\n",
              "    <tr>\n",
              "      <th>4</th>\n",
              "      <td>5</td>\n",
              "      <td>Dallas</td>\n",
              "      <td>Male</td>\n",
              "      <td>46</td>\n",
              "      <td>50289.0</td>\n",
              "      <td>No</td>\n",
              "    </tr>\n",
              "  </tbody>\n",
              "</table>\n",
              "</div>\n",
              "    <div class=\"colab-df-buttons\">\n",
              "\n",
              "  <div class=\"colab-df-container\">\n",
              "    <button class=\"colab-df-convert\" onclick=\"convertToInteractive('df-7d0e4ead-d986-4ca2-b5b1-b58ed0294e3e')\"\n",
              "            title=\"Convert this dataframe to an interactive table.\"\n",
              "            style=\"display:none;\">\n",
              "\n",
              "  <svg xmlns=\"http://www.w3.org/2000/svg\" height=\"24px\" viewBox=\"0 -960 960 960\">\n",
              "    <path d=\"M120-120v-720h720v720H120Zm60-500h600v-160H180v160Zm220 220h160v-160H400v160Zm0 220h160v-160H400v160ZM180-400h160v-160H180v160Zm440 0h160v-160H620v160ZM180-180h160v-160H180v160Zm440 0h160v-160H620v160Z\"/>\n",
              "  </svg>\n",
              "    </button>\n",
              "\n",
              "  <style>\n",
              "    .colab-df-container {\n",
              "      display:flex;\n",
              "      gap: 12px;\n",
              "    }\n",
              "\n",
              "    .colab-df-convert {\n",
              "      background-color: #E8F0FE;\n",
              "      border: none;\n",
              "      border-radius: 50%;\n",
              "      cursor: pointer;\n",
              "      display: none;\n",
              "      fill: #1967D2;\n",
              "      height: 32px;\n",
              "      padding: 0 0 0 0;\n",
              "      width: 32px;\n",
              "    }\n",
              "\n",
              "    .colab-df-convert:hover {\n",
              "      background-color: #E2EBFA;\n",
              "      box-shadow: 0px 1px 2px rgba(60, 64, 67, 0.3), 0px 1px 3px 1px rgba(60, 64, 67, 0.15);\n",
              "      fill: #174EA6;\n",
              "    }\n",
              "\n",
              "    .colab-df-buttons div {\n",
              "      margin-bottom: 4px;\n",
              "    }\n",
              "\n",
              "    [theme=dark] .colab-df-convert {\n",
              "      background-color: #3B4455;\n",
              "      fill: #D2E3FC;\n",
              "    }\n",
              "\n",
              "    [theme=dark] .colab-df-convert:hover {\n",
              "      background-color: #434B5C;\n",
              "      box-shadow: 0px 1px 3px 1px rgba(0, 0, 0, 0.15);\n",
              "      filter: drop-shadow(0px 1px 2px rgba(0, 0, 0, 0.3));\n",
              "      fill: #FFFFFF;\n",
              "    }\n",
              "  </style>\n",
              "\n",
              "    <script>\n",
              "      const buttonEl =\n",
              "        document.querySelector('#df-7d0e4ead-d986-4ca2-b5b1-b58ed0294e3e button.colab-df-convert');\n",
              "      buttonEl.style.display =\n",
              "        google.colab.kernel.accessAllowed ? 'block' : 'none';\n",
              "\n",
              "      async function convertToInteractive(key) {\n",
              "        const element = document.querySelector('#df-7d0e4ead-d986-4ca2-b5b1-b58ed0294e3e');\n",
              "        const dataTable =\n",
              "          await google.colab.kernel.invokeFunction('convertToInteractive',\n",
              "                                                    [key], {});\n",
              "        if (!dataTable) return;\n",
              "\n",
              "        const docLinkHtml = 'Like what you see? Visit the ' +\n",
              "          '<a target=\"_blank\" href=https://colab.research.google.com/notebooks/data_table.ipynb>data table notebook</a>'\n",
              "          + ' to learn more about interactive tables.';\n",
              "        element.innerHTML = '';\n",
              "        dataTable['output_type'] = 'display_data';\n",
              "        await google.colab.output.renderOutput(dataTable, element);\n",
              "        const docLink = document.createElement('div');\n",
              "        docLink.innerHTML = docLinkHtml;\n",
              "        element.appendChild(docLink);\n",
              "      }\n",
              "    </script>\n",
              "  </div>\n",
              "\n",
              "\n",
              "<div id=\"df-fe8261c6-c523-4e6c-a387-503c422addf1\">\n",
              "  <button class=\"colab-df-quickchart\" onclick=\"quickchart('df-fe8261c6-c523-4e6c-a387-503c422addf1')\"\n",
              "            title=\"Suggest charts\"\n",
              "            style=\"display:none;\">\n",
              "\n",
              "<svg xmlns=\"http://www.w3.org/2000/svg\" height=\"24px\"viewBox=\"0 0 24 24\"\n",
              "     width=\"24px\">\n",
              "    <g>\n",
              "        <path d=\"M19 3H5c-1.1 0-2 .9-2 2v14c0 1.1.9 2 2 2h14c1.1 0 2-.9 2-2V5c0-1.1-.9-2-2-2zM9 17H7v-7h2v7zm4 0h-2V7h2v10zm4 0h-2v-4h2v4z\"/>\n",
              "    </g>\n",
              "</svg>\n",
              "  </button>\n",
              "\n",
              "<style>\n",
              "  .colab-df-quickchart {\n",
              "      --bg-color: #E8F0FE;\n",
              "      --fill-color: #1967D2;\n",
              "      --hover-bg-color: #E2EBFA;\n",
              "      --hover-fill-color: #174EA6;\n",
              "      --disabled-fill-color: #AAA;\n",
              "      --disabled-bg-color: #DDD;\n",
              "  }\n",
              "\n",
              "  [theme=dark] .colab-df-quickchart {\n",
              "      --bg-color: #3B4455;\n",
              "      --fill-color: #D2E3FC;\n",
              "      --hover-bg-color: #434B5C;\n",
              "      --hover-fill-color: #FFFFFF;\n",
              "      --disabled-bg-color: #3B4455;\n",
              "      --disabled-fill-color: #666;\n",
              "  }\n",
              "\n",
              "  .colab-df-quickchart {\n",
              "    background-color: var(--bg-color);\n",
              "    border: none;\n",
              "    border-radius: 50%;\n",
              "    cursor: pointer;\n",
              "    display: none;\n",
              "    fill: var(--fill-color);\n",
              "    height: 32px;\n",
              "    padding: 0;\n",
              "    width: 32px;\n",
              "  }\n",
              "\n",
              "  .colab-df-quickchart:hover {\n",
              "    background-color: var(--hover-bg-color);\n",
              "    box-shadow: 0 1px 2px rgba(60, 64, 67, 0.3), 0 1px 3px 1px rgba(60, 64, 67, 0.15);\n",
              "    fill: var(--button-hover-fill-color);\n",
              "  }\n",
              "\n",
              "  .colab-df-quickchart-complete:disabled,\n",
              "  .colab-df-quickchart-complete:disabled:hover {\n",
              "    background-color: var(--disabled-bg-color);\n",
              "    fill: var(--disabled-fill-color);\n",
              "    box-shadow: none;\n",
              "  }\n",
              "\n",
              "  .colab-df-spinner {\n",
              "    border: 2px solid var(--fill-color);\n",
              "    border-color: transparent;\n",
              "    border-bottom-color: var(--fill-color);\n",
              "    animation:\n",
              "      spin 1s steps(1) infinite;\n",
              "  }\n",
              "\n",
              "  @keyframes spin {\n",
              "    0% {\n",
              "      border-color: transparent;\n",
              "      border-bottom-color: var(--fill-color);\n",
              "      border-left-color: var(--fill-color);\n",
              "    }\n",
              "    20% {\n",
              "      border-color: transparent;\n",
              "      border-left-color: var(--fill-color);\n",
              "      border-top-color: var(--fill-color);\n",
              "    }\n",
              "    30% {\n",
              "      border-color: transparent;\n",
              "      border-left-color: var(--fill-color);\n",
              "      border-top-color: var(--fill-color);\n",
              "      border-right-color: var(--fill-color);\n",
              "    }\n",
              "    40% {\n",
              "      border-color: transparent;\n",
              "      border-right-color: var(--fill-color);\n",
              "      border-top-color: var(--fill-color);\n",
              "    }\n",
              "    60% {\n",
              "      border-color: transparent;\n",
              "      border-right-color: var(--fill-color);\n",
              "    }\n",
              "    80% {\n",
              "      border-color: transparent;\n",
              "      border-right-color: var(--fill-color);\n",
              "      border-bottom-color: var(--fill-color);\n",
              "    }\n",
              "    90% {\n",
              "      border-color: transparent;\n",
              "      border-bottom-color: var(--fill-color);\n",
              "    }\n",
              "  }\n",
              "</style>\n",
              "\n",
              "  <script>\n",
              "    async function quickchart(key) {\n",
              "      const quickchartButtonEl =\n",
              "        document.querySelector('#' + key + ' button');\n",
              "      quickchartButtonEl.disabled = true;  // To prevent multiple clicks.\n",
              "      quickchartButtonEl.classList.add('colab-df-spinner');\n",
              "      try {\n",
              "        const charts = await google.colab.kernel.invokeFunction(\n",
              "            'suggestCharts', [key], {});\n",
              "      } catch (error) {\n",
              "        console.error('Error during call to suggestCharts:', error);\n",
              "      }\n",
              "      quickchartButtonEl.classList.remove('colab-df-spinner');\n",
              "      quickchartButtonEl.classList.add('colab-df-quickchart-complete');\n",
              "    }\n",
              "    (() => {\n",
              "      let quickchartButtonEl =\n",
              "        document.querySelector('#df-fe8261c6-c523-4e6c-a387-503c422addf1 button');\n",
              "      quickchartButtonEl.style.display =\n",
              "        google.colab.kernel.accessAllowed ? 'block' : 'none';\n",
              "    })();\n",
              "  </script>\n",
              "</div>\n",
              "\n",
              "    </div>\n",
              "  </div>\n"
            ]
          },
          "metadata": {},
          "execution_count": 32
        }
      ]
    },
    {
      "cell_type": "code",
      "source": [
        "data.isnull().sum()"
      ],
      "metadata": {
        "colab": {
          "base_uri": "https://localhost:8080/"
        },
        "id": "tLptccRxEM-3",
        "outputId": "1cb8c994-040e-477a-e840-f95409473628"
      },
      "execution_count": 33,
      "outputs": [
        {
          "output_type": "execute_result",
          "data": {
            "text/plain": [
              "Number     0\n",
              "City       0\n",
              "Gender     0\n",
              "Age        0\n",
              "Income     0\n",
              "Illness    0\n",
              "dtype: int64"
            ]
          },
          "metadata": {},
          "execution_count": 33
        }
      ]
    },
    {
      "cell_type": "code",
      "source": [
        "data.City.value_counts()"
      ],
      "metadata": {
        "colab": {
          "base_uri": "https://localhost:8080/"
        },
        "id": "brouEJ2YF_zD",
        "outputId": "dc493bae-4252-4ea0-a00c-1cf253609c75"
      },
      "execution_count": 34,
      "outputs": [
        {
          "output_type": "execute_result",
          "data": {
            "text/plain": [
              "New York City      50307\n",
              "Los Angeles        32173\n",
              "Dallas             19707\n",
              "Mountain View      14219\n",
              "Austin             12292\n",
              "Boston              8301\n",
              "Washington D.C.     8120\n",
              "San Diego           4881\n",
              "Name: City, dtype: int64"
            ]
          },
          "metadata": {},
          "execution_count": 34
        }
      ]
    },
    {
      "cell_type": "code",
      "source": [
        "data.Illness.value_counts()"
      ],
      "metadata": {
        "colab": {
          "base_uri": "https://localhost:8080/"
        },
        "id": "cnDG_WF1JbnZ",
        "outputId": "6992f9f5-0d89-4d35-f012-a038fa2a1ad8"
      },
      "execution_count": 35,
      "outputs": [
        {
          "output_type": "execute_result",
          "data": {
            "text/plain": [
              "No     137861\n",
              "Yes     12139\n",
              "Name: Illness, dtype: int64"
            ]
          },
          "metadata": {},
          "execution_count": 35
        }
      ]
    },
    {
      "cell_type": "code",
      "source": [
        "data.City.unique()"
      ],
      "metadata": {
        "colab": {
          "base_uri": "https://localhost:8080/"
        },
        "id": "aF7z0eM7G-PR",
        "outputId": "6f0428c5-5a8b-4a35-d6e5-693d25eb649e"
      },
      "execution_count": 36,
      "outputs": [
        {
          "output_type": "execute_result",
          "data": {
            "text/plain": [
              "array(['Dallas', 'New York City', 'Los Angeles', 'Mountain View',\n",
              "       'Boston', 'Washington D.C.', 'San Diego', 'Austin'], dtype=object)"
            ]
          },
          "metadata": {},
          "execution_count": 36
        }
      ]
    },
    {
      "cell_type": "code",
      "source": [
        "data = data.drop(columns = ['Number'])"
      ],
      "metadata": {
        "id": "xUVoF3HAElnT"
      },
      "execution_count": 37,
      "outputs": []
    },
    {
      "cell_type": "code",
      "source": [
        "replacement_dict = {\n",
        "    'Male': 1,\n",
        "    'Female': 0\n",
        "}\n",
        "\n",
        "replacement_dict2 = {\n",
        "    'New York City': 0,\n",
        "    'Los Angeles': 1,\n",
        "    'Dallas': 2,\n",
        "    'Mountain View': 3,\n",
        "    'Austin': 4,\n",
        "    'Boston': 5,\n",
        "    'Washington D.C.': 6,\n",
        "    'San Diego': 7\n",
        "}\n",
        "\n",
        "replacement_dict3 = {\n",
        "    'Yes': 1,\n",
        "    'No': 0\n",
        "}\n",
        "\n",
        "\n",
        "data['Gender'] = data['Gender'].replace(replacement_dict)\n",
        "data['City'] = data['City'].replace(replacement_dict2)\n",
        "data['Illness'] = data['Illness'].replace(replacement_dict3)"
      ],
      "metadata": {
        "id": "ZF_PdZM3F75B"
      },
      "execution_count": 38,
      "outputs": []
    },
    {
      "cell_type": "code",
      "source": [
        "data.corr(method = 'pearson')"
      ],
      "metadata": {
        "colab": {
          "base_uri": "https://localhost:8080/",
          "height": 206
        },
        "id": "mapnH08kCT72",
        "outputId": "192ab4fb-05cd-45f4-f5f2-2cbf4b64fa68"
      },
      "execution_count": 39,
      "outputs": [
        {
          "output_type": "execute_result",
          "data": {
            "text/plain": [
              "             City    Gender       Age    Income   Illness\n",
              "City     1.000000  0.002040 -0.001015 -0.067104  0.003324\n",
              "Gender   0.002040  1.000000 -0.003653  0.198888  0.001297\n",
              "Age     -0.001015 -0.003653  1.000000 -0.001318  0.001811\n",
              "Income  -0.067104  0.198888 -0.001318  1.000000  0.000298\n",
              "Illness  0.003324  0.001297  0.001811  0.000298  1.000000"
            ],
            "text/html": [
              "\n",
              "  <div id=\"df-dcfd0b9f-9fbb-4cf5-b944-312ba6f6eee5\" class=\"colab-df-container\">\n",
              "    <div>\n",
              "<style scoped>\n",
              "    .dataframe tbody tr th:only-of-type {\n",
              "        vertical-align: middle;\n",
              "    }\n",
              "\n",
              "    .dataframe tbody tr th {\n",
              "        vertical-align: top;\n",
              "    }\n",
              "\n",
              "    .dataframe thead th {\n",
              "        text-align: right;\n",
              "    }\n",
              "</style>\n",
              "<table border=\"1\" class=\"dataframe\">\n",
              "  <thead>\n",
              "    <tr style=\"text-align: right;\">\n",
              "      <th></th>\n",
              "      <th>City</th>\n",
              "      <th>Gender</th>\n",
              "      <th>Age</th>\n",
              "      <th>Income</th>\n",
              "      <th>Illness</th>\n",
              "    </tr>\n",
              "  </thead>\n",
              "  <tbody>\n",
              "    <tr>\n",
              "      <th>City</th>\n",
              "      <td>1.000000</td>\n",
              "      <td>0.002040</td>\n",
              "      <td>-0.001015</td>\n",
              "      <td>-0.067104</td>\n",
              "      <td>0.003324</td>\n",
              "    </tr>\n",
              "    <tr>\n",
              "      <th>Gender</th>\n",
              "      <td>0.002040</td>\n",
              "      <td>1.000000</td>\n",
              "      <td>-0.003653</td>\n",
              "      <td>0.198888</td>\n",
              "      <td>0.001297</td>\n",
              "    </tr>\n",
              "    <tr>\n",
              "      <th>Age</th>\n",
              "      <td>-0.001015</td>\n",
              "      <td>-0.003653</td>\n",
              "      <td>1.000000</td>\n",
              "      <td>-0.001318</td>\n",
              "      <td>0.001811</td>\n",
              "    </tr>\n",
              "    <tr>\n",
              "      <th>Income</th>\n",
              "      <td>-0.067104</td>\n",
              "      <td>0.198888</td>\n",
              "      <td>-0.001318</td>\n",
              "      <td>1.000000</td>\n",
              "      <td>0.000298</td>\n",
              "    </tr>\n",
              "    <tr>\n",
              "      <th>Illness</th>\n",
              "      <td>0.003324</td>\n",
              "      <td>0.001297</td>\n",
              "      <td>0.001811</td>\n",
              "      <td>0.000298</td>\n",
              "      <td>1.000000</td>\n",
              "    </tr>\n",
              "  </tbody>\n",
              "</table>\n",
              "</div>\n",
              "    <div class=\"colab-df-buttons\">\n",
              "\n",
              "  <div class=\"colab-df-container\">\n",
              "    <button class=\"colab-df-convert\" onclick=\"convertToInteractive('df-dcfd0b9f-9fbb-4cf5-b944-312ba6f6eee5')\"\n",
              "            title=\"Convert this dataframe to an interactive table.\"\n",
              "            style=\"display:none;\">\n",
              "\n",
              "  <svg xmlns=\"http://www.w3.org/2000/svg\" height=\"24px\" viewBox=\"0 -960 960 960\">\n",
              "    <path d=\"M120-120v-720h720v720H120Zm60-500h600v-160H180v160Zm220 220h160v-160H400v160Zm0 220h160v-160H400v160ZM180-400h160v-160H180v160Zm440 0h160v-160H620v160ZM180-180h160v-160H180v160Zm440 0h160v-160H620v160Z\"/>\n",
              "  </svg>\n",
              "    </button>\n",
              "\n",
              "  <style>\n",
              "    .colab-df-container {\n",
              "      display:flex;\n",
              "      gap: 12px;\n",
              "    }\n",
              "\n",
              "    .colab-df-convert {\n",
              "      background-color: #E8F0FE;\n",
              "      border: none;\n",
              "      border-radius: 50%;\n",
              "      cursor: pointer;\n",
              "      display: none;\n",
              "      fill: #1967D2;\n",
              "      height: 32px;\n",
              "      padding: 0 0 0 0;\n",
              "      width: 32px;\n",
              "    }\n",
              "\n",
              "    .colab-df-convert:hover {\n",
              "      background-color: #E2EBFA;\n",
              "      box-shadow: 0px 1px 2px rgba(60, 64, 67, 0.3), 0px 1px 3px 1px rgba(60, 64, 67, 0.15);\n",
              "      fill: #174EA6;\n",
              "    }\n",
              "\n",
              "    .colab-df-buttons div {\n",
              "      margin-bottom: 4px;\n",
              "    }\n",
              "\n",
              "    [theme=dark] .colab-df-convert {\n",
              "      background-color: #3B4455;\n",
              "      fill: #D2E3FC;\n",
              "    }\n",
              "\n",
              "    [theme=dark] .colab-df-convert:hover {\n",
              "      background-color: #434B5C;\n",
              "      box-shadow: 0px 1px 3px 1px rgba(0, 0, 0, 0.15);\n",
              "      filter: drop-shadow(0px 1px 2px rgba(0, 0, 0, 0.3));\n",
              "      fill: #FFFFFF;\n",
              "    }\n",
              "  </style>\n",
              "\n",
              "    <script>\n",
              "      const buttonEl =\n",
              "        document.querySelector('#df-dcfd0b9f-9fbb-4cf5-b944-312ba6f6eee5 button.colab-df-convert');\n",
              "      buttonEl.style.display =\n",
              "        google.colab.kernel.accessAllowed ? 'block' : 'none';\n",
              "\n",
              "      async function convertToInteractive(key) {\n",
              "        const element = document.querySelector('#df-dcfd0b9f-9fbb-4cf5-b944-312ba6f6eee5');\n",
              "        const dataTable =\n",
              "          await google.colab.kernel.invokeFunction('convertToInteractive',\n",
              "                                                    [key], {});\n",
              "        if (!dataTable) return;\n",
              "\n",
              "        const docLinkHtml = 'Like what you see? Visit the ' +\n",
              "          '<a target=\"_blank\" href=https://colab.research.google.com/notebooks/data_table.ipynb>data table notebook</a>'\n",
              "          + ' to learn more about interactive tables.';\n",
              "        element.innerHTML = '';\n",
              "        dataTable['output_type'] = 'display_data';\n",
              "        await google.colab.output.renderOutput(dataTable, element);\n",
              "        const docLink = document.createElement('div');\n",
              "        docLink.innerHTML = docLinkHtml;\n",
              "        element.appendChild(docLink);\n",
              "      }\n",
              "    </script>\n",
              "  </div>\n",
              "\n",
              "\n",
              "<div id=\"df-bbae529c-a504-4867-92b8-cd450e8f40c7\">\n",
              "  <button class=\"colab-df-quickchart\" onclick=\"quickchart('df-bbae529c-a504-4867-92b8-cd450e8f40c7')\"\n",
              "            title=\"Suggest charts\"\n",
              "            style=\"display:none;\">\n",
              "\n",
              "<svg xmlns=\"http://www.w3.org/2000/svg\" height=\"24px\"viewBox=\"0 0 24 24\"\n",
              "     width=\"24px\">\n",
              "    <g>\n",
              "        <path d=\"M19 3H5c-1.1 0-2 .9-2 2v14c0 1.1.9 2 2 2h14c1.1 0 2-.9 2-2V5c0-1.1-.9-2-2-2zM9 17H7v-7h2v7zm4 0h-2V7h2v10zm4 0h-2v-4h2v4z\"/>\n",
              "    </g>\n",
              "</svg>\n",
              "  </button>\n",
              "\n",
              "<style>\n",
              "  .colab-df-quickchart {\n",
              "      --bg-color: #E8F0FE;\n",
              "      --fill-color: #1967D2;\n",
              "      --hover-bg-color: #E2EBFA;\n",
              "      --hover-fill-color: #174EA6;\n",
              "      --disabled-fill-color: #AAA;\n",
              "      --disabled-bg-color: #DDD;\n",
              "  }\n",
              "\n",
              "  [theme=dark] .colab-df-quickchart {\n",
              "      --bg-color: #3B4455;\n",
              "      --fill-color: #D2E3FC;\n",
              "      --hover-bg-color: #434B5C;\n",
              "      --hover-fill-color: #FFFFFF;\n",
              "      --disabled-bg-color: #3B4455;\n",
              "      --disabled-fill-color: #666;\n",
              "  }\n",
              "\n",
              "  .colab-df-quickchart {\n",
              "    background-color: var(--bg-color);\n",
              "    border: none;\n",
              "    border-radius: 50%;\n",
              "    cursor: pointer;\n",
              "    display: none;\n",
              "    fill: var(--fill-color);\n",
              "    height: 32px;\n",
              "    padding: 0;\n",
              "    width: 32px;\n",
              "  }\n",
              "\n",
              "  .colab-df-quickchart:hover {\n",
              "    background-color: var(--hover-bg-color);\n",
              "    box-shadow: 0 1px 2px rgba(60, 64, 67, 0.3), 0 1px 3px 1px rgba(60, 64, 67, 0.15);\n",
              "    fill: var(--button-hover-fill-color);\n",
              "  }\n",
              "\n",
              "  .colab-df-quickchart-complete:disabled,\n",
              "  .colab-df-quickchart-complete:disabled:hover {\n",
              "    background-color: var(--disabled-bg-color);\n",
              "    fill: var(--disabled-fill-color);\n",
              "    box-shadow: none;\n",
              "  }\n",
              "\n",
              "  .colab-df-spinner {\n",
              "    border: 2px solid var(--fill-color);\n",
              "    border-color: transparent;\n",
              "    border-bottom-color: var(--fill-color);\n",
              "    animation:\n",
              "      spin 1s steps(1) infinite;\n",
              "  }\n",
              "\n",
              "  @keyframes spin {\n",
              "    0% {\n",
              "      border-color: transparent;\n",
              "      border-bottom-color: var(--fill-color);\n",
              "      border-left-color: var(--fill-color);\n",
              "    }\n",
              "    20% {\n",
              "      border-color: transparent;\n",
              "      border-left-color: var(--fill-color);\n",
              "      border-top-color: var(--fill-color);\n",
              "    }\n",
              "    30% {\n",
              "      border-color: transparent;\n",
              "      border-left-color: var(--fill-color);\n",
              "      border-top-color: var(--fill-color);\n",
              "      border-right-color: var(--fill-color);\n",
              "    }\n",
              "    40% {\n",
              "      border-color: transparent;\n",
              "      border-right-color: var(--fill-color);\n",
              "      border-top-color: var(--fill-color);\n",
              "    }\n",
              "    60% {\n",
              "      border-color: transparent;\n",
              "      border-right-color: var(--fill-color);\n",
              "    }\n",
              "    80% {\n",
              "      border-color: transparent;\n",
              "      border-right-color: var(--fill-color);\n",
              "      border-bottom-color: var(--fill-color);\n",
              "    }\n",
              "    90% {\n",
              "      border-color: transparent;\n",
              "      border-bottom-color: var(--fill-color);\n",
              "    }\n",
              "  }\n",
              "</style>\n",
              "\n",
              "  <script>\n",
              "    async function quickchart(key) {\n",
              "      const quickchartButtonEl =\n",
              "        document.querySelector('#' + key + ' button');\n",
              "      quickchartButtonEl.disabled = true;  // To prevent multiple clicks.\n",
              "      quickchartButtonEl.classList.add('colab-df-spinner');\n",
              "      try {\n",
              "        const charts = await google.colab.kernel.invokeFunction(\n",
              "            'suggestCharts', [key], {});\n",
              "      } catch (error) {\n",
              "        console.error('Error during call to suggestCharts:', error);\n",
              "      }\n",
              "      quickchartButtonEl.classList.remove('colab-df-spinner');\n",
              "      quickchartButtonEl.classList.add('colab-df-quickchart-complete');\n",
              "    }\n",
              "    (() => {\n",
              "      let quickchartButtonEl =\n",
              "        document.querySelector('#df-bbae529c-a504-4867-92b8-cd450e8f40c7 button');\n",
              "      quickchartButtonEl.style.display =\n",
              "        google.colab.kernel.accessAllowed ? 'block' : 'none';\n",
              "    })();\n",
              "  </script>\n",
              "</div>\n",
              "\n",
              "    </div>\n",
              "  </div>\n"
            ]
          },
          "metadata": {},
          "execution_count": 39
        }
      ]
    },
    {
      "cell_type": "markdown",
      "source": [
        "Dependent - Independent Variables"
      ],
      "metadata": {
        "id": "Xfm-kZ0zOYhF"
      }
    },
    {
      "cell_type": "code",
      "source": [
        "dependent = data[\"Illness\"];\n",
        "independent = data.drop(columns = [\"Illness\"]);"
      ],
      "metadata": {
        "id": "VhZzJ1EnOcpT"
      },
      "execution_count": 40,
      "outputs": []
    },
    {
      "cell_type": "markdown",
      "source": [
        "Train-Test Split"
      ],
      "metadata": {
        "id": "VwWCufW4Pcs4"
      }
    },
    {
      "cell_type": "code",
      "source": [
        "from sklearn.model_selection import train_test_split"
      ],
      "metadata": {
        "id": "nhpMfX6oPkHX"
      },
      "execution_count": 41,
      "outputs": []
    },
    {
      "cell_type": "code",
      "source": [
        "X_train, X_test, y_train, y_test = train_test_split(independent, dependent, test_size=0.2, random_state=42)"
      ],
      "metadata": {
        "id": "Je5RRgtiXlgs"
      },
      "execution_count": 42,
      "outputs": []
    },
    {
      "cell_type": "code",
      "source": [
        "X_validation, X_test, y_validation, y_test = train_test_split(X_test, y_test, test_size=0.5, random_state=42)"
      ],
      "metadata": {
        "id": "g37xPwVheW4B"
      },
      "execution_count": 43,
      "outputs": []
    },
    {
      "cell_type": "markdown",
      "source": [
        "Model Creation"
      ],
      "metadata": {
        "id": "lEYsxBqSJqss"
      }
    },
    {
      "cell_type": "code",
      "source": [
        "from keras.initializers import he_normal\n",
        "\n",
        "model = keras.Sequential([\n",
        "     tf.keras.layers.Dense(4, activation = 'relu', name = 'input', input_dim = 4, kernel_initializer=he_normal(seed=None)),\n",
        "     tf.keras.layers.Dense(10, activation = 'relu', name = 'L2', kernel_initializer=he_normal(seed=None)),\n",
        "     tf.keras.layers.Dense(6 , activation = 'relu', name = 'L3', kernel_initializer=he_normal(seed=None)),\n",
        "     tf.keras.layers.Dense(1, activation = 'sigmoid', name = 'output', kernel_initializer=he_normal(seed=None))\n",
        "])"
      ],
      "metadata": {
        "id": "O6yPGXbBJtUz"
      },
      "execution_count": 44,
      "outputs": []
    },
    {
      "cell_type": "code",
      "source": [
        "model.get_weights()"
      ],
      "metadata": {
        "colab": {
          "base_uri": "https://localhost:8080/"
        },
        "id": "45TF9_ivNN5g",
        "outputId": "7c57a78d-6089-4db0-faf3-4cf3b0734319"
      },
      "execution_count": 45,
      "outputs": [
        {
          "output_type": "execute_result",
          "data": {
            "text/plain": [
              "[array([[ 0.16071314, -0.20328851,  0.238086  ,  0.21524836],\n",
              "        [-0.65590364,  0.9281536 ,  0.20654264,  0.4465581 ],\n",
              "        [-0.4544225 ,  0.46685794,  0.30711538, -1.1376691 ],\n",
              "        [-0.631268  , -0.44831032, -0.82619524,  1.6030538 ]],\n",
              "       dtype=float32),\n",
              " array([0., 0., 0., 0.], dtype=float32),\n",
              " array([[-0.15231799, -0.20079882,  0.9892215 , -0.03278311,  0.5928135 ,\n",
              "         -0.29202685,  1.2390666 ,  0.6936628 ,  0.87608945, -0.06050804],\n",
              "        [-0.4166125 , -0.48753572, -0.03814913,  0.20542294,  0.04282338,\n",
              "         -0.246715  ,  0.91647816, -0.2963113 ,  0.14728181, -0.29200566],\n",
              "        [-0.9953745 ,  0.8100692 ,  0.26007122,  1.0795009 ,  1.3274045 ,\n",
              "         -1.4312719 , -0.9297762 ,  0.01115838,  0.2947948 , -1.5705621 ],\n",
              "        [-1.2285523 , -0.9919971 , -0.683464  , -0.5224803 , -0.50805616,\n",
              "         -0.57157075,  0.33445737, -0.52577037,  1.0889472 , -0.21299276]],\n",
              "       dtype=float32),\n",
              " array([0., 0., 0., 0., 0., 0., 0., 0., 0., 0.], dtype=float32),\n",
              " array([[ 0.35036558, -0.8127796 , -0.6168362 , -0.84518623,  0.16495048,\n",
              "          0.16635303],\n",
              "        [-0.07344858,  0.07384378, -0.6022349 ,  0.73705846,  0.19794613,\n",
              "          0.13850106],\n",
              "        [ 0.5386599 ,  0.3626698 , -0.83164907, -0.44418612,  0.13658912,\n",
              "          0.22051574],\n",
              "        [ 0.03244957, -0.43466225, -0.26908985, -0.08040158, -0.45670334,\n",
              "         -0.48315912],\n",
              "        [-0.94638044, -0.60588497, -0.18082516, -0.28438073,  0.21746154,\n",
              "         -0.30591792],\n",
              "        [ 0.33496737, -0.24397343,  0.06692834, -0.4313751 ,  0.02354705,\n",
              "         -0.52260137],\n",
              "        [ 0.85141623,  0.09813151, -0.03794189,  0.43942183,  0.8918328 ,\n",
              "          0.59240544],\n",
              "        [ 0.47099924,  0.26466537, -0.14885616,  0.08733368, -0.33289987,\n",
              "         -0.32572073],\n",
              "        [-0.50233763, -0.09839266,  0.11370742, -0.426401  ,  0.30288613,\n",
              "          0.34694007],\n",
              "        [-0.81314665, -0.46716946,  0.18680169, -0.36178613,  0.06757484,\n",
              "          0.03615081]], dtype=float32),\n",
              " array([0., 0., 0., 0., 0., 0.], dtype=float32),\n",
              " array([[-0.02203299],\n",
              "        [ 0.5447159 ],\n",
              "        [-0.44231054],\n",
              "        [-0.2707844 ],\n",
              "        [ 0.0149909 ],\n",
              "        [ 0.05491982]], dtype=float32),\n",
              " array([0.], dtype=float32)]"
            ]
          },
          "metadata": {},
          "execution_count": 45
        }
      ]
    },
    {
      "cell_type": "code",
      "source": [
        "independent.shape"
      ],
      "metadata": {
        "colab": {
          "base_uri": "https://localhost:8080/"
        },
        "id": "nGcoWV-jdaFe",
        "outputId": "77217431-dbf9-498c-ae03-1cd7e0067464"
      },
      "execution_count": 47,
      "outputs": [
        {
          "output_type": "execute_result",
          "data": {
            "text/plain": [
              "(150000, 4)"
            ]
          },
          "metadata": {},
          "execution_count": 47
        }
      ]
    },
    {
      "cell_type": "code",
      "source": [
        "model.compile(\n",
        "    loss = tf.keras.losses.BinaryCrossentropy(),\n",
        "    optimizer = tf.keras.optimizers.Adam(learning_rate = 0.0001),\n",
        "    metrics = ['accuracy']\n",
        ")\n",
        "\n",
        "model.fit(\n",
        "    X_train, y_train,\n",
        "    epochs = 30, batch_size = 128\n",
        ")"
      ],
      "metadata": {
        "colab": {
          "base_uri": "https://localhost:8080/"
        },
        "id": "Vi-vxPh-bzE8",
        "outputId": "4ce63a59-89c3-4147-ec4a-420cebe993e0"
      },
      "execution_count": 48,
      "outputs": [
        {
          "output_type": "stream",
          "name": "stdout",
          "text": [
            "Epoch 1/30\n",
            "938/938 [==============================] - 4s 2ms/step - loss: 2.9046 - accuracy: 0.8858\n",
            "Epoch 2/30\n",
            "938/938 [==============================] - 2s 2ms/step - loss: 0.8337 - accuracy: 0.8822\n",
            "Epoch 3/30\n",
            "938/938 [==============================] - 2s 2ms/step - loss: 0.8019 - accuracy: 0.8826\n",
            "Epoch 4/30\n",
            "938/938 [==============================] - 2s 2ms/step - loss: 0.8231 - accuracy: 0.8800\n",
            "Epoch 5/30\n",
            "938/938 [==============================] - 3s 3ms/step - loss: 0.7767 - accuracy: 0.8750\n",
            "Epoch 6/30\n",
            "938/938 [==============================] - 2s 2ms/step - loss: 0.5531 - accuracy: 0.8953\n",
            "Epoch 7/30\n",
            "938/938 [==============================] - 2s 2ms/step - loss: 0.6628 - accuracy: 0.8896\n",
            "Epoch 8/30\n",
            "938/938 [==============================] - 2s 3ms/step - loss: 0.6212 - accuracy: 0.8955\n",
            "Epoch 9/30\n",
            "938/938 [==============================] - 2s 2ms/step - loss: 0.5802 - accuracy: 0.8980\n",
            "Epoch 10/30\n",
            "938/938 [==============================] - 3s 3ms/step - loss: 0.5723 - accuracy: 0.8953\n",
            "Epoch 11/30\n",
            "938/938 [==============================] - 2s 3ms/step - loss: 0.6457 - accuracy: 0.8883\n",
            "Epoch 12/30\n",
            "938/938 [==============================] - 2s 3ms/step - loss: 0.5209 - accuracy: 0.8943\n",
            "Epoch 13/30\n",
            "938/938 [==============================] - 3s 3ms/step - loss: 0.5366 - accuracy: 0.8976\n",
            "Epoch 14/30\n",
            "938/938 [==============================] - 2s 3ms/step - loss: 0.5232 - accuracy: 0.8981\n",
            "Epoch 15/30\n",
            "938/938 [==============================] - 3s 4ms/step - loss: 0.4723 - accuracy: 0.9046\n",
            "Epoch 16/30\n",
            "938/938 [==============================] - 2s 2ms/step - loss: 0.4673 - accuracy: 0.9019\n",
            "Epoch 17/30\n",
            "938/938 [==============================] - 2s 2ms/step - loss: 0.4964 - accuracy: 0.8988\n",
            "Epoch 18/30\n",
            "938/938 [==============================] - 2s 2ms/step - loss: 0.3915 - accuracy: 0.9091\n",
            "Epoch 19/30\n",
            "938/938 [==============================] - 3s 3ms/step - loss: 0.4246 - accuracy: 0.9058\n",
            "Epoch 20/30\n",
            "938/938 [==============================] - 4s 4ms/step - loss: 0.3773 - accuracy: 0.9133\n",
            "Epoch 21/30\n",
            "938/938 [==============================] - 2s 2ms/step - loss: 0.4299 - accuracy: 0.9081\n",
            "Epoch 22/30\n",
            "938/938 [==============================] - 2s 2ms/step - loss: 0.3548 - accuracy: 0.9132\n",
            "Epoch 23/30\n",
            "938/938 [==============================] - 2s 2ms/step - loss: 0.3628 - accuracy: 0.9140\n",
            "Epoch 24/30\n",
            "938/938 [==============================] - 2s 2ms/step - loss: 0.4121 - accuracy: 0.9069\n",
            "Epoch 25/30\n",
            "938/938 [==============================] - 3s 3ms/step - loss: 0.3442 - accuracy: 0.9155\n",
            "Epoch 26/30\n",
            "938/938 [==============================] - 2s 2ms/step - loss: 0.3504 - accuracy: 0.9161\n",
            "Epoch 27/30\n",
            "938/938 [==============================] - 2s 2ms/step - loss: 0.3476 - accuracy: 0.9157\n",
            "Epoch 28/30\n",
            "938/938 [==============================] - 2s 2ms/step - loss: 0.3450 - accuracy: 0.9155\n",
            "Epoch 29/30\n",
            "938/938 [==============================] - 2s 2ms/step - loss: 0.3258 - accuracy: 0.9185\n",
            "Epoch 30/30\n",
            "938/938 [==============================] - 3s 3ms/step - loss: 0.3355 - accuracy: 0.9173\n"
          ]
        },
        {
          "output_type": "execute_result",
          "data": {
            "text/plain": [
              "<keras.src.callbacks.History at 0x7b531c6f3d90>"
            ]
          },
          "metadata": {},
          "execution_count": 48
        }
      ]
    },
    {
      "cell_type": "code",
      "source": [
        "model.compile(\n",
        "    loss = tf.keras.losses.BinaryCrossentropy(),\n",
        "    optimizer = tf.keras.optimizers.Adam(learning_rate = 0.0001),\n",
        "    metrics = ['accuracy']\n",
        ")\n",
        "\n",
        "model.fit(\n",
        "    X_validation, y_validation,\n",
        "    epochs = 30, batch_size = 32\n",
        ")"
      ],
      "metadata": {
        "colab": {
          "base_uri": "https://localhost:8080/"
        },
        "id": "AKD_8HrDe4nE",
        "outputId": "2c1f5af4-eeea-4c79-8795-730f33e79f80"
      },
      "execution_count": 49,
      "outputs": [
        {
          "output_type": "stream",
          "name": "stdout",
          "text": [
            "Epoch 1/30\n",
            "469/469 [==============================] - 3s 3ms/step - loss: 0.3859 - accuracy: 0.9132\n",
            "Epoch 2/30\n",
            "469/469 [==============================] - 2s 4ms/step - loss: 0.3619 - accuracy: 0.9189\n",
            "Epoch 3/30\n",
            "469/469 [==============================] - 1s 2ms/step - loss: 0.3765 - accuracy: 0.9139\n",
            "Epoch 4/30\n",
            "469/469 [==============================] - 1s 3ms/step - loss: 0.3683 - accuracy: 0.9145\n",
            "Epoch 5/30\n",
            "469/469 [==============================] - 1s 2ms/step - loss: 0.3306 - accuracy: 0.9187\n",
            "Epoch 6/30\n",
            "469/469 [==============================] - 1s 2ms/step - loss: 0.3463 - accuracy: 0.9200\n",
            "Epoch 7/30\n",
            "469/469 [==============================] - 1s 3ms/step - loss: 0.3406 - accuracy: 0.9202\n",
            "Epoch 8/30\n",
            "469/469 [==============================] - 1s 3ms/step - loss: 0.3463 - accuracy: 0.9202\n",
            "Epoch 9/30\n",
            "469/469 [==============================] - 1s 2ms/step - loss: 0.3296 - accuracy: 0.9185\n",
            "Epoch 10/30\n",
            "469/469 [==============================] - 1s 3ms/step - loss: 0.3563 - accuracy: 0.9181\n",
            "Epoch 11/30\n",
            "469/469 [==============================] - 2s 4ms/step - loss: 0.3291 - accuracy: 0.9202\n",
            "Epoch 12/30\n",
            "469/469 [==============================] - 2s 4ms/step - loss: 0.3328 - accuracy: 0.9202\n",
            "Epoch 13/30\n",
            "469/469 [==============================] - 1s 2ms/step - loss: 0.3151 - accuracy: 0.9202\n",
            "Epoch 14/30\n",
            "469/469 [==============================] - 1s 2ms/step - loss: 0.3323 - accuracy: 0.9202\n",
            "Epoch 15/30\n",
            "469/469 [==============================] - 1s 2ms/step - loss: 0.3178 - accuracy: 0.9202\n",
            "Epoch 16/30\n",
            "469/469 [==============================] - 1s 2ms/step - loss: 0.3237 - accuracy: 0.9202\n",
            "Epoch 17/30\n",
            "469/469 [==============================] - 1s 3ms/step - loss: 0.3087 - accuracy: 0.9202\n",
            "Epoch 18/30\n",
            "469/469 [==============================] - 1s 3ms/step - loss: 0.3264 - accuracy: 0.9202\n",
            "Epoch 19/30\n",
            "469/469 [==============================] - 1s 2ms/step - loss: 0.3095 - accuracy: 0.9201\n",
            "Epoch 20/30\n",
            "469/469 [==============================] - 1s 2ms/step - loss: 0.3176 - accuracy: 0.9202\n",
            "Epoch 21/30\n",
            "469/469 [==============================] - 2s 3ms/step - loss: 0.3116 - accuracy: 0.9202\n",
            "Epoch 22/30\n",
            "469/469 [==============================] - 2s 4ms/step - loss: 0.3073 - accuracy: 0.9202\n",
            "Epoch 23/30\n",
            "469/469 [==============================] - 1s 2ms/step - loss: 0.3015 - accuracy: 0.9202\n",
            "Epoch 24/30\n",
            "469/469 [==============================] - 1s 2ms/step - loss: 0.3044 - accuracy: 0.9202\n",
            "Epoch 25/30\n",
            "469/469 [==============================] - 1s 2ms/step - loss: 0.2998 - accuracy: 0.9202\n",
            "Epoch 26/30\n",
            "469/469 [==============================] - 1s 3ms/step - loss: 0.3027 - accuracy: 0.9202\n",
            "Epoch 27/30\n",
            "469/469 [==============================] - 1s 2ms/step - loss: 0.2977 - accuracy: 0.9202\n",
            "Epoch 28/30\n",
            "469/469 [==============================] - 1s 3ms/step - loss: 0.3003 - accuracy: 0.9202\n",
            "Epoch 29/30\n",
            "469/469 [==============================] - 1s 2ms/step - loss: 0.2950 - accuracy: 0.9202\n",
            "Epoch 30/30\n",
            "469/469 [==============================] - 1s 2ms/step - loss: 0.2967 - accuracy: 0.9202\n"
          ]
        },
        {
          "output_type": "execute_result",
          "data": {
            "text/plain": [
              "<keras.src.callbacks.History at 0x7b531c460a30>"
            ]
          },
          "metadata": {},
          "execution_count": 49
        }
      ]
    },
    {
      "cell_type": "code",
      "source": [
        "model.compile(\n",
        "    loss = tf.keras.losses.BinaryCrossentropy(),\n",
        "    optimizer = tf.keras.optimizers.Adam(learning_rate = 0.0001),\n",
        "    metrics = ['accuracy']\n",
        ")\n",
        "\n",
        "model.fit(\n",
        "    X_test, y_test,\n",
        "    epochs = 30, batch_size = 32\n",
        ")"
      ],
      "metadata": {
        "colab": {
          "base_uri": "https://localhost:8080/"
        },
        "id": "PTA2WhogfEpJ",
        "outputId": "ce9c283d-8451-46e7-e482-15b3e8d2444e"
      },
      "execution_count": 50,
      "outputs": [
        {
          "output_type": "stream",
          "name": "stdout",
          "text": [
            "Epoch 1/30\n",
            "469/469 [==============================] - 2s 2ms/step - loss: 0.2922 - accuracy: 0.9213\n",
            "Epoch 2/30\n",
            "469/469 [==============================] - 1s 2ms/step - loss: 0.2904 - accuracy: 0.9213\n",
            "Epoch 3/30\n",
            "469/469 [==============================] - 1s 3ms/step - loss: 0.2901 - accuracy: 0.9213\n",
            "Epoch 4/30\n",
            "469/469 [==============================] - 1s 3ms/step - loss: 0.2883 - accuracy: 0.9213\n",
            "Epoch 5/30\n",
            "469/469 [==============================] - 1s 3ms/step - loss: 0.2891 - accuracy: 0.9213\n",
            "Epoch 6/30\n",
            "469/469 [==============================] - 2s 4ms/step - loss: 0.2879 - accuracy: 0.9213\n",
            "Epoch 7/30\n",
            "469/469 [==============================] - 1s 3ms/step - loss: 0.2872 - accuracy: 0.9213\n",
            "Epoch 8/30\n",
            "469/469 [==============================] - 1s 2ms/step - loss: 0.2883 - accuracy: 0.9213\n",
            "Epoch 9/30\n",
            "469/469 [==============================] - 1s 2ms/step - loss: 0.2868 - accuracy: 0.9213\n",
            "Epoch 10/30\n",
            "469/469 [==============================] - 1s 2ms/step - loss: 0.2869 - accuracy: 0.9213\n",
            "Epoch 11/30\n",
            "469/469 [==============================] - 1s 2ms/step - loss: 0.2870 - accuracy: 0.9213\n",
            "Epoch 12/30\n",
            "469/469 [==============================] - 1s 2ms/step - loss: 0.2860 - accuracy: 0.9213\n",
            "Epoch 13/30\n",
            "469/469 [==============================] - 1s 2ms/step - loss: 0.2875 - accuracy: 0.9213\n",
            "Epoch 14/30\n",
            "469/469 [==============================] - 1s 2ms/step - loss: 0.2858 - accuracy: 0.9213\n",
            "Epoch 15/30\n",
            "469/469 [==============================] - 1s 3ms/step - loss: 0.2857 - accuracy: 0.9213\n",
            "Epoch 16/30\n",
            "469/469 [==============================] - 2s 3ms/step - loss: 0.2864 - accuracy: 0.9213\n",
            "Epoch 17/30\n",
            "469/469 [==============================] - 2s 4ms/step - loss: 0.2867 - accuracy: 0.9213\n",
            "Epoch 18/30\n",
            "469/469 [==============================] - 1s 2ms/step - loss: 0.2856 - accuracy: 0.9213\n",
            "Epoch 19/30\n",
            "469/469 [==============================] - 1s 3ms/step - loss: 0.2860 - accuracy: 0.9213\n",
            "Epoch 20/30\n",
            "469/469 [==============================] - 1s 2ms/step - loss: 0.2848 - accuracy: 0.9213\n",
            "Epoch 21/30\n",
            "469/469 [==============================] - 1s 2ms/step - loss: 0.2854 - accuracy: 0.9213\n",
            "Epoch 22/30\n",
            "469/469 [==============================] - 1s 2ms/step - loss: 0.2850 - accuracy: 0.9213\n",
            "Epoch 23/30\n",
            "469/469 [==============================] - 1s 2ms/step - loss: 0.2843 - accuracy: 0.9213\n",
            "Epoch 24/30\n",
            "469/469 [==============================] - 1s 2ms/step - loss: 0.2843 - accuracy: 0.9213\n",
            "Epoch 25/30\n",
            "469/469 [==============================] - 1s 2ms/step - loss: 0.2840 - accuracy: 0.9213\n",
            "Epoch 26/30\n",
            "469/469 [==============================] - 1s 3ms/step - loss: 0.2841 - accuracy: 0.9213\n",
            "Epoch 27/30\n",
            "469/469 [==============================] - 2s 4ms/step - loss: 0.2838 - accuracy: 0.9213\n",
            "Epoch 28/30\n",
            "469/469 [==============================] - 1s 2ms/step - loss: 0.2838 - accuracy: 0.9213\n",
            "Epoch 29/30\n",
            "469/469 [==============================] - 1s 2ms/step - loss: 0.2841 - accuracy: 0.9213\n",
            "Epoch 30/30\n",
            "469/469 [==============================] - 1s 2ms/step - loss: 0.2835 - accuracy: 0.9213\n"
          ]
        },
        {
          "output_type": "execute_result",
          "data": {
            "text/plain": [
              "<keras.src.callbacks.History at 0x7b531c3d5480>"
            ]
          },
          "metadata": {},
          "execution_count": 50
        }
      ]
    },
    {
      "cell_type": "code",
      "source": [
        "model.summary()"
      ],
      "metadata": {
        "id": "bqm28Vl7MHSW"
      },
      "execution_count": null,
      "outputs": []
    }
  ]
}